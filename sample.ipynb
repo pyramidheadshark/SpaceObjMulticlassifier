{
 "cells": [
  {
   "cell_type": "markdown",
   "id": "dfaa41c0c24d5814",
   "metadata": {},
   "source": [
    "# Space objects practice|"
   ]
  },
  {
   "cell_type": "code",
   "execution_count": 6,
   "id": "cc3c8da7983694fc",
   "metadata": {
    "ExecuteTime": {
     "end_time": "2024-05-29T20:35:29.140113Z",
     "start_time": "2024-05-29T20:35:28.486053Z"
    }
   },
   "outputs": [],
   "source": [
    "import json\n",
    "import pandas as pd\n",
    "import seaborn as sns\n",
    "import numpy as np\n",
    "import matplotlib.pyplot as plt\n",
    "import pickle\n",
    "from sklearn.neighbors import LocalOutlierFactor\n",
    "from sklearn.metrics import accuracy_score\n",
    "from sklearn.model_selection import train_test_split\n",
    "from lightgbm import LGBMClassifier\n",
    "from hyperopt import fmin, tpe, hp, STATUS_OK, Trials\n",
    "from hyperopt.pyll.base import scope\n",
    "from hyperopt.pyll.stochastic import sample"
   ]
  },
  {
   "cell_type": "code",
   "execution_count": null,
   "id": "4f1e9456ab5d8d1b",
   "metadata": {
    "ExecuteTime": {
     "end_time": "2024-05-29T20:35:29.156093Z",
     "start_time": "2024-05-29T20:35:29.143095Z"
    }
   },
   "outputs": [],
   "source": [
    "ORIGINAL_PATH = 'data_original.csv'\n",
    "FILTRATED_PATH = 'data_filtrated.csv'\n",
    "INPUT_PATH = 'data_input.csv'\n",
    "PREDICTED_PATH = 'data_predicted.csv'"
   ]
  },
  {
   "cell_type": "code",
   "execution_count": null,
   "id": "b60c75f71e14093a",
   "metadata": {},
   "outputs": [],
   "source": [
    "df_orig = pd.read_csv(ORIGINAL_PATH)"
   ]
  },
  {
   "cell_type": "code",
   "execution_count": null,
   "id": "93a4bcfcdf3df1a3",
   "metadata": {},
   "outputs": [],
   "source": [
    "df_filt = df_orig.drop(columns=['Row_id', 'rerun_ID'])"
   ]
  },
  {
   "cell_type": "code",
   "execution_count": null,
   "id": "30817520",
   "metadata": {},
   "outputs": [],
   "source": [
    "class_labels = {'GALAXY': 0, 'STAR': 1, 'QSO': 2}\n",
    "reversed_labels = dict(zip(class_labels.values(), class_labels.keys()))"
   ]
  },
  {
   "cell_type": "code",
   "execution_count": null,
   "id": "598fa7e0",
   "metadata": {},
   "outputs": [],
   "source": [
    "df_filt['class'] = df_filt['class'].replace(class_labels)"
   ]
  },
  {
   "cell_type": "code",
   "execution_count": null,
   "id": "93a4bcfcdf3df1a3",
   "metadata": {},
   "outputs": [],
   "source": [
    "df_filt.info()"
   ]
  },
  {
   "cell_type": "code",
   "execution_count": null,
   "id": "50407ce3",
   "metadata": {},
   "outputs": [],
   "source": [
    "class_data = {}\n",
    "for class_label in class_labels:\n",
    "    class_data[class_label] = df_filt[df_filt['class'] == class_labels[class_label]]"
   ]
  },
  {
   "cell_type": "code",
   "execution_count": null,
   "id": "0c0634f0",
   "metadata": {},
   "outputs": [],
   "source": [
    "for class_label in class_labels:\n",
    "    X = class_data[class_label].drop(columns=['class'])\n",
    "    clf = LocalOutlierFactor(n_neighbors=20, contamination=0.1)\n",
    "    y_pred = clf.fit_predict(X)\n",
    "    anomalies = X[y_pred == -1]\n",
    "    print(f\"Anomalies in class {class_label}:\")\n",
    "    print(anomalies)\n",
    "    df_filt = df_filt[~df_filt.index.isin(anomalies.index)]"
   ]
  },
  {
   "cell_type": "code",
   "execution_count": null,
   "id": "c228c82c",
   "metadata": {},
   "outputs": [],
   "source": [
    "df_filt = df_filt.reset_index(drop=True)"
   ]
  },
  {
   "cell_type": "code",
   "execution_count": null,
   "id": "230f3eb3",
   "metadata": {},
   "outputs": [],
   "source": [
    "def show_statistics(df):\n",
    "    grouped_data = df.groupby('class')\n",
    "\n",
    "    num_columns = len(df.columns) - 1\n",
    "    num_rows = int(np.ceil(num_columns / 2))\n",
    "    fig, axs = plt.subplots(num_rows, 2, figsize=(10, 5 * num_rows))\n",
    "\n",
    "    for i, column in enumerate(df.columns[1:]):\n",
    "        row = i // 2\n",
    "        col = i % 2\n",
    "        ax = axs[row, col]\n",
    "        \n",
    "        for class_label, class_data in grouped_data:\n",
    "            sns.histplot(data=class_data, x=column, label=class_label, ax=ax)\n",
    "        \n",
    "        ax.set_xlabel(column)\n",
    "        ax.set_ylabel('Density')\n",
    "        ax.legend()\n",
    "\n",
    "    plt.tight_layout()\n",
    "\n",
    "    plt.show()"
   ]
  },
  {
   "cell_type": "code",
   "execution_count": null,
   "id": "1239bf56",
   "metadata": {},
   "outputs": [],
   "source": [
    "show_statistics(df_filt)"
   ]
  },
  {
   "cell_type": "code",
   "execution_count": null,
   "id": "4c4c0543",
   "metadata": {},
   "outputs": [],
   "source": [
    "df_filt.to_csv(FILTRATED_PATH, index=False)"
   ]
  },
  {
   "cell_type": "code",
   "execution_count": null,
   "id": "7a6abd82",
   "metadata": {},
   "outputs": [],
   "source": [
    "model = LGBMClassifier()"
   ]
  },
  {
   "cell_type": "code",
   "execution_count": null,
   "id": "f2b3cac1",
   "metadata": {},
   "outputs": [],
   "source": [
    "X_train, X_test, y_train, y_test = train_test_split(\n",
    "    df_filt.drop(columns=['class']), df_filt['class'], test_size=0.2, random_state=42\n",
    "    )"
   ]
  },
  {
   "cell_type": "code",
   "execution_count": null,
   "id": "2f3ab6a8",
   "metadata": {},
   "outputs": [],
   "source": [
    "hyperparams = {\n",
    "    'verbosity': [-1],\n",
    "    'num_class': [3],\n",
    "    'num_leaves': [62, 127],\n",
    "    'learning_rate': [0.01, 0.1],\n",
    "    'n_estimators': [50, 200],\n",
    "    'max_depth': [-1]\n",
    "}"
   ]
  },
  {
   "cell_type": "code",
   "execution_count": 4,
   "id": "772fefe7",
   "metadata": {},
   "outputs": [],
   "source": [
    "space = {\n",
    "    'num_leaves': sample(scope.int(hp.quniform('num_leaves', 32, 128, 16))),\n",
    "    'learning_rate': hp.uniform('learning_rate', 0.01, 0.4),\n",
    "    'n_estimators': sample(scope.int(hp.quniform('n_estimators', 50, 300, 10))),\n",
    "    'max_depth': sample(scope.int(hp.quniform('n_estimators', 2, 20, 2)))\n",
    "}"
   ]
  },
  {
   "cell_type": "code",
   "execution_count": 5,
   "id": "69146c40",
   "metadata": {},
   "outputs": [],
   "source": [
    "def objective(params):\n",
    "    model = LGBMClassifier(verbosity=-1, num_class=3,**params)\n",
    "    model.fit(X_train, y_train)\n",
    "    score = model.score(X_test, y_test)\n",
    "    return {'loss': -score, 'status': STATUS_OK}"
   ]
  },
  {
   "cell_type": "code",
   "execution_count": null,
   "id": "4d1c3af6",
   "metadata": {},
   "outputs": [],
   "source": [
    "trials = Trials()\n",
    "best_params = fmin(fn=objective, space=space, algo=tpe.suggest, max_evals=100, trials=trials)"
   ]
  },
  {
   "cell_type": "code",
   "execution_count": null,
   "id": "036f0152",
   "metadata": {},
   "outputs": [],
   "source": [
    "with open('best_params.pkl', 'wb') as f:\n",
    "    pickle.dump(best_params, f)\n",
    "with open('best_params.json', 'w') as f:\n",
    "    json.dump(best_params, f)"
   ]
  },
  {
   "cell_type": "markdown",
   "id": "0141573f",
   "metadata": {},
   "source": [
    "# Testing"
   ]
  },
  {
   "cell_type": "code",
   "execution_count": null,
   "id": "8e3a1ead",
   "metadata": {},
   "outputs": [],
   "source": [
    "with open('best_params.json', 'r') as f:\n",
    "    best_params = json.load(f)"
   ]
  },
  {
   "cell_type": "code",
   "execution_count": null,
   "id": "8c7d8403",
   "metadata": {},
   "outputs": [],
   "source": [
    "X_train, X_test, y_train, y_test = train_test_split(\n",
    "    df_filt.drop(columns=['class']), df_filt['class'], test_size=0.2, random_state=42, stratify=df_filt['class']\n",
    ")"
   ]
  },
  {
   "cell_type": "code",
   "execution_count": null,
   "id": "72fa2565",
   "metadata": {},
   "outputs": [],
   "source": [
    "model = LGBMClassifier(num_class=3, **best_params)\n",
    "model.fit(X_train, y_train)"
   ]
  },
  {
   "cell_type": "code",
   "execution_count": null,
   "id": "9e98f265",
   "metadata": {},
   "outputs": [],
   "source": [
    "y_pred = model.predict(X_test)"
   ]
  },
  {
   "cell_type": "code",
   "execution_count": null,
   "id": "5e6bb0d7",
   "metadata": {},
   "outputs": [],
   "source": [
    "accuracy = accuracy_score(y_test, np.argmax(y_pred, axis=1))"
   ]
  },
  {
   "cell_type": "code",
   "execution_count": null,
   "id": "eefda07f",
   "metadata": {},
   "outputs": [],
   "source": [
    "print(f\"Accuracy: {accuracy}\")"
   ]
  },
  {
   "cell_type": "code",
   "execution_count": null,
   "id": "6c2cfd09",
   "metadata": {},
   "outputs": [],
   "source": [
    "with open('model.pkl', 'wb') as f:\n",
    "    pickle.dump(model, f)"
   ]
  },
  {
   "cell_type": "markdown",
   "id": "84a7cfa3",
   "metadata": {},
   "source": [
    "# Inputs"
   ]
  },
  {
   "cell_type": "code",
   "execution_count": null,
   "id": "4bfae347",
   "metadata": {},
   "outputs": [],
   "source": [
    "with open('model.pkl', 'rb') as f:\n",
    "    model = pickle.load(f)"
   ]
  },
  {
   "cell_type": "code",
   "execution_count": null,
   "id": "26ff3b23",
   "metadata": {},
   "outputs": [],
   "source": [
    "df_input = pd.read_csv(INPUT_PATH)"
   ]
  },
  {
   "cell_type": "code",
   "execution_count": null,
   "id": "18079211",
   "metadata": {},
   "outputs": [],
   "source": [
    "y_pred = model.predict(df)"
   ]
  },
  {
   "cell_type": "code",
   "execution_count": null,
   "id": "b2d3e313",
   "metadata": {},
   "outputs": [],
   "source": [
    "print(y_pred)"
   ]
  },
  {
   "cell_type": "code",
   "execution_count": null,
   "id": "989fe7cd",
   "metadata": {},
   "outputs": [],
   "source": [
    "df_input['class'] = np.argmax(y_pred, axis=1).apply(lambda x: reversed_labels[x])"
   ]
  },
  {
   "cell_type": "code",
   "execution_count": null,
   "id": "9da0a915",
   "metadata": {},
   "outputs": [],
   "source": [
    "df_input.to_csv(PREDICTED_PATH, index=False)"
   ]
  }
 ],
 "metadata": {
  "kernelspec": {
   "display_name": "Python 3",
   "language": "python",
   "name": "python3"
  },
  "language_info": {
   "codemirror_mode": {
    "name": "ipython",
    "version": 3
   },
   "file_extension": ".py",
   "mimetype": "text/x-python",
   "name": "python",
   "nbconvert_exporter": "python",
   "pygments_lexer": "ipython3",
   "version": "3.8.19"
  }
 },
 "nbformat": 4,
 "nbformat_minor": 5
}
