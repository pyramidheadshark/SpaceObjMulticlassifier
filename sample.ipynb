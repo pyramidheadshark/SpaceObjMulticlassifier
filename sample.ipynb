{
 "cells": [
  {
   "metadata": {},
   "cell_type": "markdown",
   "source": "# Space objects practice|",
   "id": "dfaa41c0c24d5814"
  },
  {
   "metadata": {
    "ExecuteTime": {
     "end_time": "2024-05-29T20:35:29.140113Z",
     "start_time": "2024-05-29T20:35:28.486053Z"
    }
   },
   "cell_type": "code",
   "source": "import pandas as pd",
   "id": "cc3c8da7983694fc",
   "outputs": [],
   "execution_count": 1
  },
  {
   "metadata": {
    "ExecuteTime": {
     "end_time": "2024-05-29T20:35:29.156093Z",
     "start_time": "2024-05-29T20:35:29.143095Z"
    }
   },
   "cell_type": "code",
   "source": [
    "ORIGINAL_PATH = 'data_original.csv'\n",
    "FILTRATED_PATH = 'data_filtrated.csv'\n",
    "PROCESSED_PATH = 'data_processed.csv'\n",
    "INPUT_PATH = 'data_input.csv'\n",
    "PREDICTED_PATH = 'data_predicted.csv'"
   ],
   "id": "4f1e9456ab5d8d1b",
   "outputs": [],
   "execution_count": 2
  },
  {
   "metadata": {},
   "cell_type": "code",
   "outputs": [],
   "execution_count": null,
   "source": "df = pd.read_csv(",
   "id": "b60c75f71e14093a"
  },
  {
   "metadata": {},
   "cell_type": "code",
   "outputs": [],
   "execution_count": null,
   "source": "",
   "id": "93a4bcfcdf3df1a3"
  }
 ],
 "metadata": {
  "kernelspec": {
   "display_name": "Python 3",
   "language": "python",
   "name": "python3"
  },
  "language_info": {
   "codemirror_mode": {
    "name": "ipython",
    "version": 2
   },
   "file_extension": ".py",
   "mimetype": "text/x-python",
   "name": "python",
   "nbconvert_exporter": "python",
   "pygments_lexer": "ipython2",
   "version": "2.7.6"
  }
 },
 "nbformat": 4,
 "nbformat_minor": 5
}
